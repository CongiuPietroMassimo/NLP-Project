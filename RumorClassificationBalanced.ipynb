{
 "cells": [
  {
   "cell_type": "markdown",
   "metadata": {},
   "source": [
    "Questa versione della rumor classification usa per il raining un dataset bilanciato, ovvero solo i rumor etichettati del training test\n",
    "Essendo pochi (una novantina) come classificatore si usa sempre il NaiveBayes"
   ]
  },
  {
   "cell_type": "markdown",
   "metadata": {},
   "source": [
    "Apertura del file di training"
   ]
  },
  {
   "cell_type": "code",
   "execution_count": 2,
   "metadata": {},
   "outputs": [],
   "source": [
    "import json\n",
    "\n",
    "with open('English_train_v2.json', 'r') as f:\n",
    "    trainSet = json.load(f)\n"
   ]
  },
  {
   "cell_type": "markdown",
   "metadata": {},
   "source": [
    "Apertura del file di test"
   ]
  },
  {
   "cell_type": "code",
   "execution_count": 3,
   "metadata": {},
   "outputs": [],
   "source": [
    "with open('English_test_v2.json', 'r') as f:\n",
    "    testSet = json.load(f)"
   ]
  },
  {
   "cell_type": "markdown",
   "metadata": {},
   "source": [
    "Vettorizzazione del training set"
   ]
  },
  {
   "cell_type": "code",
   "execution_count": 5,
   "metadata": {},
   "outputs": [],
   "source": [
    "#Lista di tutti i rumor\n",
    "listaRumor = []\n",
    "for oggetto in trainSet:\n",
    "    listaRumor.append(oggetto[\"rumor\"])"
   ]
  },
  {
   "cell_type": "markdown",
   "metadata": {},
   "source": [
    "Abbiamo 96 eempi di training"
   ]
  },
  {
   "cell_type": "code",
   "execution_count": 23,
   "metadata": {},
   "outputs": [],
   "source": [
    "dimTrain = len(listaRumor)"
   ]
  },
  {
   "cell_type": "markdown",
   "metadata": {},
   "source": [
    "Faccio la stessa cosa per il test set"
   ]
  },
  {
   "cell_type": "code",
   "execution_count": 8,
   "metadata": {},
   "outputs": [],
   "source": [
    "#Lista di tutti i rumor\n",
    "listaRumorTest = []\n",
    "for oggetto in testSet:\n",
    "    listaRumorTest.append(oggetto[\"rumor\"])"
   ]
  },
  {
   "cell_type": "markdown",
   "metadata": {},
   "source": [
    "Abbiamo 32 esempi di test"
   ]
  },
  {
   "cell_type": "code",
   "execution_count": 24,
   "metadata": {},
   "outputs": [],
   "source": [
    "dimTest = len(listaRumorTest)"
   ]
  },
  {
   "cell_type": "markdown",
   "metadata": {},
   "source": [
    "Creazione di una lista unica da vettorizzare"
   ]
  },
  {
   "cell_type": "code",
   "execution_count": 11,
   "metadata": {},
   "outputs": [],
   "source": [
    "listaDaVett = listaRumor + listaRumorTest"
   ]
  },
  {
   "cell_type": "code",
   "execution_count": 12,
   "metadata": {},
   "outputs": [
    {
     "data": {
      "text/plain": [
       "128"
      ]
     },
     "execution_count": 12,
     "metadata": {},
     "output_type": "execute_result"
    }
   ],
   "source": [
    "len(listaDaVett)"
   ]
  },
  {
   "cell_type": "code",
   "execution_count": 20,
   "metadata": {},
   "outputs": [],
   "source": [
    "from sklearn.feature_extraction.text import TfidfVectorizer\n",
    "from scipy.spatial.distance import cosine\n",
    "import heapq\n",
    "import re\n",
    "\n",
    "def flat_list(lista):\n",
    "    ris = []\n",
    "    for elemento in lista.toarray():\n",
    "        ris.extend(elemento)\n",
    "    return ris\n",
    "\n",
    "def vettorizzazione(rumors):\n",
    "    pattern = r\"\\bhttps?.*\\b\"\n",
    "    patternHashtag = r\"\\b\\#(.*)\\b\"\n",
    "    tweet = []\n",
    "    for element in rumors:\n",
    "        tweet.append(re.sub(pattern, '', element))\n",
    "\n",
    "    #Calcolo coseno\n",
    "    vectorizer = TfidfVectorizer(use_idf=True,sublinear_tf=True,smooth_idf=True, stop_words=None)\n",
    "    tfidf_matrix = vectorizer.fit_transform(tweet)\n",
    "\n",
    "    return tfidf_matrix"
   ]
  },
  {
   "cell_type": "markdown",
   "metadata": {},
   "source": [
    "Vettorizzo"
   ]
  },
  {
   "cell_type": "code",
   "execution_count": 21,
   "metadata": {},
   "outputs": [],
   "source": [
    "listaVett = vettorizzazione(listaDaVett)"
   ]
  },
  {
   "cell_type": "code",
   "execution_count": 22,
   "metadata": {},
   "outputs": [
    {
     "data": {
      "text/plain": [
       "<128x1442 sparse matrix of type '<class 'numpy.float64'>'\n",
       "\twith 2987 stored elements in Compressed Sparse Row format>"
      ]
     },
     "execution_count": 22,
     "metadata": {},
     "output_type": "execute_result"
    }
   ],
   "source": [
    "listaVett"
   ]
  },
  {
   "cell_type": "markdown",
   "metadata": {},
   "source": [
    "Separo le vettorizzazioni di training e edi test"
   ]
  },
  {
   "cell_type": "code",
   "execution_count": 25,
   "metadata": {},
   "outputs": [],
   "source": [
    "trainVett = listaVett[:-dimTest]\n",
    "testVett = listaVett[-dimTest:]"
   ]
  },
  {
   "cell_type": "code",
   "execution_count": 27,
   "metadata": {},
   "outputs": [],
   "source": [
    "X = trainVett"
   ]
  },
  {
   "cell_type": "markdown",
   "metadata": {},
   "source": [
    "Creo le label di test"
   ]
  },
  {
   "cell_type": "code",
   "execution_count": 28,
   "metadata": {},
   "outputs": [],
   "source": [
    "Y = []\n",
    "for oggetto in trainSet:\n",
    "    Y.append(oggetto[\"label\"])"
   ]
  },
  {
   "cell_type": "code",
   "execution_count": 30,
   "metadata": {},
   "outputs": [
    {
     "data": {
      "text/plain": [
       "96"
      ]
     },
     "execution_count": 30,
     "metadata": {},
     "output_type": "execute_result"
    }
   ],
   "source": [
    "len(Y)"
   ]
  },
  {
   "cell_type": "markdown",
   "metadata": {},
   "source": [
    "Addestramento del modello"
   ]
  },
  {
   "cell_type": "code",
   "execution_count": 31,
   "metadata": {},
   "outputs": [],
   "source": [
    "from sklearn.naive_bayes import MultinomialNB\n",
    "\n",
    "NB = MultinomialNB()\n",
    "\n",
    "model= NB.fit(X,Y)"
   ]
  },
  {
   "cell_type": "markdown",
   "metadata": {},
   "source": [
    "Adesso vettorizzazione del test e previsione\n",
    "\n",
    "Devo estrarre quelli più significativi e vettorizzarli"
   ]
  },
  {
   "cell_type": "code",
   "execution_count": 33,
   "metadata": {},
   "outputs": [],
   "source": [
    "ris = model.predict(testVett)"
   ]
  },
  {
   "cell_type": "code",
   "execution_count": 35,
   "metadata": {},
   "outputs": [
    {
     "data": {
      "text/plain": [
       "32"
      ]
     },
     "execution_count": 35,
     "metadata": {},
     "output_type": "execute_result"
    }
   ],
   "source": [
    "len(ris)"
   ]
  },
  {
   "cell_type": "code",
   "execution_count": 38,
   "metadata": {},
   "outputs": [
    {
     "name": "stdout",
     "output_type": "stream",
     "text": [
      "['NOT ENOUGH INFO' 'REFUTES' 'REFUTES' 'NOT ENOUGH INFO' 'NOT ENOUGH INFO'\n",
      " 'NOT ENOUGH INFO' 'NOT ENOUGH INFO' 'NOT ENOUGH INFO' 'NOT ENOUGH INFO'\n",
      " 'REFUTES' 'NOT ENOUGH INFO' 'NOT ENOUGH INFO' 'NOT ENOUGH INFO' 'REFUTES'\n",
      " 'NOT ENOUGH INFO' 'NOT ENOUGH INFO' 'NOT ENOUGH INFO' 'NOT ENOUGH INFO'\n",
      " 'NOT ENOUGH INFO' 'NOT ENOUGH INFO' 'NOT ENOUGH INFO' 'NOT ENOUGH INFO'\n",
      " 'NOT ENOUGH INFO' 'REFUTES' 'NOT ENOUGH INFO' 'REFUTES' 'NOT ENOUGH INFO'\n",
      " 'NOT ENOUGH INFO' 'REFUTES' 'NOT ENOUGH INFO' 'NOT ENOUGH INFO'\n",
      " 'NOT ENOUGH INFO']\n"
     ]
    }
   ],
   "source": [
    "print(ris)"
   ]
  },
  {
   "cell_type": "markdown",
   "metadata": {},
   "source": [
    "Apro il file con le etichette e verifico l'accuratezza"
   ]
  },
  {
   "cell_type": "code",
   "execution_count": 39,
   "metadata": {},
   "outputs": [],
   "source": [
    "with open('Validation_set.json', 'r') as f:\n",
    "    validationSet = json.load(f)\n",
    "\n",
    "predicted_labels = []\n",
    "for element in validationSet:\n",
    "    predicted_labels.append(element['predicted_label'])"
   ]
  },
  {
   "cell_type": "code",
   "execution_count": 41,
   "metadata": {},
   "outputs": [
    {
     "data": {
      "text/plain": [
       "32"
      ]
     },
     "execution_count": 41,
     "metadata": {},
     "output_type": "execute_result"
    }
   ],
   "source": [
    "len(predicted_labels)"
   ]
  },
  {
   "cell_type": "markdown",
   "metadata": {},
   "source": [
    "Verifico l'accuratezza del modello"
   ]
  },
  {
   "cell_type": "code",
   "execution_count": 42,
   "metadata": {},
   "outputs": [
    {
     "data": {
      "text/plain": [
       "0.625"
      ]
     },
     "execution_count": 42,
     "metadata": {},
     "output_type": "execute_result"
    }
   ],
   "source": [
    "model.score(testVett,predicted_labels)"
   ]
  }
 ],
 "metadata": {
  "kernelspec": {
   "display_name": "base",
   "language": "python",
   "name": "python3"
  },
  "language_info": {
   "codemirror_mode": {
    "name": "ipython",
    "version": 3
   },
   "file_extension": ".py",
   "mimetype": "text/x-python",
   "name": "python",
   "nbconvert_exporter": "python",
   "pygments_lexer": "ipython3",
   "version": "3.11.7"
  }
 },
 "nbformat": 4,
 "nbformat_minor": 2
}
