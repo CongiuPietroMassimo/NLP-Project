{
 "cells": [
  {
   "cell_type": "markdown",
   "metadata": {},
   "source": [
    "DATASET CLEANING"
   ]
  },
  {
   "cell_type": "markdown",
   "metadata": {},
   "source": [
    "Preprocessing in order to remove from the tweets: \n",
    "- links \n",
    "- stopwords \n",
    "- emoji \n",
    "- hashtags"
   ]
  },
  {
   "cell_type": "code",
   "execution_count": 3,
   "metadata": {},
   "outputs": [],
   "source": [
    "import json"
   ]
  },
  {
   "cell_type": "code",
   "execution_count": 1,
   "metadata": {},
   "outputs": [],
   "source": [
    "with open('../Datasets/English_train_v2.json', 'r') as f:\n",
    "    trainSet = json.load(f)\n"
   ]
  },
  {
   "cell_type": "markdown",
   "metadata": {},
   "source": [
    "String cleaning fuction\n",
    "Regex are used to substitute the elements that have to be removed with blank spaces\n",
    "\n",
    "- links: revoves only links\n",
    "- hashtags: removes hashtags, emojis and stopwords\n",
    "\n",
    "Thats why emoji is empty"
   ]
  },
  {
   "cell_type": "code",
   "execution_count": 1,
   "metadata": {},
   "outputs": [],
   "source": [
    "import re\n",
    "\n",
    "def stringCleaner(tweet):\n",
    "\n",
    "    links = r\"\\bhttps?.*\\b\"\n",
    "    hashtags = \"[^\\u1F600-\\u1F6FF\\s]\"\n",
    "    emoji = r\"\"\n",
    "\n",
    "    corrections = [links, hashtags, emoji]\n",
    "    ris = tweet\n",
    "\n",
    "    for pattern in corrections:\n",
    "        ris = re.sub(pattern, '', ris)\n",
    "\n",
    "    return ris"
   ]
  },
  {
   "cell_type": "markdown",
   "metadata": {},
   "source": [
    "Example of the string cleaning at work"
   ]
  },
  {
   "cell_type": "code",
   "execution_count": 3,
   "metadata": {},
   "outputs": [
    {
     "data": {
      "text/plain": [
       "' | The referees of the Zamalek and Pyramids match in the twentyeighth round of the Premier League  EFA '"
      ]
     },
     "execution_count": 3,
     "metadata": {},
     "output_type": "execute_result"
    }
   ],
   "source": [
    "stringCleaner(\"🔴 | The referees of the Zamalek and Pyramids match in the twenty-eighth round of the Premier League... ⬇️⬇️ #EFA https://t.co/kIo6rrP6aW\")"
   ]
  },
  {
   "cell_type": "markdown",
   "metadata": {},
   "source": [
    "Cleaning all the rumors and timelines in the training set"
   ]
  },
  {
   "cell_type": "code",
   "execution_count": 4,
   "metadata": {},
   "outputs": [],
   "source": [
    "for element in trainSet:\n",
    "    #Rumor cleaning\n",
    "    element[\"rumor\"] = stringCleaner(element[\"rumor\"])\n",
    "\n",
    "    #Timeline cleaning\n",
    "    for authority in element[\"timeline\"]:\n",
    "        authority[2] = stringCleaner(authority[2])"
   ]
  },
  {
   "cell_type": "markdown",
   "metadata": {},
   "source": [
    "Salvataggio delle nuove versioni del dataset"
   ]
  },
  {
   "cell_type": "code",
   "execution_count": 6,
   "metadata": {},
   "outputs": [],
   "source": [
    "with open('../Datasets/English_train_v3.json', 'w') as f:\n",
    "    json.dump(trainSet, f)"
   ]
  },
  {
   "cell_type": "markdown",
   "metadata": {},
   "source": [
    "DEV SET"
   ]
  },
  {
   "cell_type": "markdown",
   "metadata": {},
   "source": [
    "Same goes for the development set"
   ]
  },
  {
   "cell_type": "code",
   "execution_count": null,
   "metadata": {},
   "outputs": [],
   "source": [
    "with open('../clef2024-checkthat-lab-main-task5/task5/data/English_dev.json', 'r') as f:\n",
    "    devSet = json.load(f)"
   ]
  },
  {
   "cell_type": "code",
   "execution_count": null,
   "metadata": {},
   "outputs": [],
   "source": [
    "for element in devSet:\n",
    "    #Rumor cleaning\n",
    "    element[\"rumor\"] = stringCleaner(element[\"rumor\"])\n",
    "\n",
    "    #Timeline cleaning\n",
    "    for authority in element[\"timeline\"]:\n",
    "        authority[2] = stringCleaner(authority[2])"
   ]
  },
  {
   "cell_type": "code",
   "execution_count": null,
   "metadata": {},
   "outputs": [],
   "source": [
    "with open('../Datasets/English_dev.json', 'w') as f:\n",
    "    json.dump(devSet, f)"
   ]
  }
 ],
 "metadata": {
  "kernelspec": {
   "display_name": "base",
   "language": "python",
   "name": "python3"
  },
  "language_info": {
   "codemirror_mode": {
    "name": "ipython",
    "version": 3
   },
   "file_extension": ".py",
   "mimetype": "text/x-python",
   "name": "python",
   "nbconvert_exporter": "python",
   "pygments_lexer": "ipython3",
   "version": "3.10.9"
  }
 },
 "nbformat": 4,
 "nbformat_minor": 2
}
